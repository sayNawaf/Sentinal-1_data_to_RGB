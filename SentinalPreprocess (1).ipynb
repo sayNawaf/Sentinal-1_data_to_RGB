{
  "nbformat": 4,
  "nbformat_minor": 0,
  "metadata": {
    "colab": {
      "provenance": []
    },
    "kernelspec": {
      "name": "python3",
      "display_name": "Python 3"
    },
    "language_info": {
      "name": "python"
    }
  },
  "cells": [
    {
      "cell_type": "code",
      "execution_count": null,
      "metadata": {
        "colab": {
          "base_uri": "https://localhost:8080/"
        },
        "id": "ryEgShE7hbJQ",
        "outputId": "6d22207b-5a2f-4179-bf40-74287481c1a0"
      },
      "outputs": [
        {
          "output_type": "stream",
          "name": "stdout",
          "text": [
            "Mounted at /content/drive\n"
          ]
        }
      ],
      "source": [
        "from google.colab import drive\n",
        "drive.mount('/content/drive')"
      ]
    },
    {
      "cell_type": "code",
      "source": [
        "from tifffile import imread, imwrite\n",
        "import numpy as np"
      ],
      "metadata": {
        "id": "a8CipWTTeE9A"
      },
      "execution_count": null,
      "outputs": []
    },
    {
      "cell_type": "code",
      "source": [
        "raw1 = \"/content/drive/MyDrive/senitel (1)/raw_patchs_s1/S1A_IW_GRDH_1SDV_20170613T165043_33UUP_62_48/S1A_IW_GRDH_1SDV_20170613T165043_33UUP_62_48_VH.tif\"\n",
        "raw2 = \"/content/drive/MyDrive/senitel (1)/raw_patchs_s1/S1A_IW_GRDH_1SDV_20170613T165043_33UUP_62_48/S1A_IW_GRDH_1SDV_20170613T165043_33UUP_62_48_VV.tif\""
      ],
      "metadata": {
        "id": "WzbbjrQdqn7y"
      },
      "execution_count": null,
      "outputs": []
    },
    {
      "cell_type": "code",
      "source": [
        "from PIL import Image\n",
        "import numpy as np\n",
        "\n",
        "# Open images\n",
        "vv  = Image.open(raw2) #vv\n",
        "vh = Image.open(raw1) #vh\n",
        "\n",
        "\n",
        "# Convert PIL Images to Numpy arrays\n",
        "npvv  = np.array(vv)\n",
        "npvh = np.array(vh)\n",
        "\n",
        "R = npvv\n",
        "G = npvh\n",
        "B = npvv-npvh"
      ],
      "metadata": {
        "id": "XexxinMcdcG_"
      },
      "execution_count": null,
      "outputs": []
    },
    {
      "cell_type": "code",
      "source": [
        "# Find maximum across all channels for scaling\n",
        "max = np.max([R,G,B])"
      ],
      "metadata": {
        "id": "Kz6-Cxcued1i"
      },
      "execution_count": null,
      "outputs": []
    },
    {
      "cell_type": "code",
      "source": [
        "# Scale all channels equally to range 0..255 to fit in a PNG (could use 65,535 and np.uint16 instead)\n",
        "R = (R * 255/max).astype(np.uint8)\n",
        "G = (G * 255/max).astype(np.uint8)\n",
        "B = (B * 255/max).astype(np.uint8)"
      ],
      "metadata": {
        "id": "ZxBHgkx3eYS3"
      },
      "execution_count": null,
      "outputs": []
    },
    {
      "cell_type": "code",
      "source": [
        "RGB = np.dstack((G,R,B)) #G,R,B\n",
        "imwrite('/content/drive/MyDrive/sentinalOut/last9.png', RGB)"
      ],
      "metadata": {
        "id": "naKfs4gtdlPa"
      },
      "execution_count": null,
      "outputs": []
    }
  ]
}